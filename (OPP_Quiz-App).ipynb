{
 "cells": [
  {
   "cell_type": "code",
   "execution_count": 1,
   "id": "6c6b75d0-985b-4503-b148-588cef3381a5",
   "metadata": {},
   "outputs": [],
   "source": [
    "class quiz:\n",
    "    def __init__(self,name,roll):\n",
    "        self.name = name\n",
    "        self.roll = roll\n",
    "        self.score = 0\n",
    "\n",
    "\n",
    "\n",
    "    def intro(self):\n",
    "        print('Wellcome To Quiz App')\n",
    "        print(f'Mr {self.name} With Roll No : {self.roll} Is Doing Quiz :/n')\n",
    "\n",
    "    def questions(self):\n",
    "        self.score = 0\n",
    "        question1 = input('What does \"CPU\" stand for in computing?')\n",
    "        if question1 == 'Central Processing Unit'.lower():\n",
    "            print('Correct Answer')\n",
    "            self.score+=1\n",
    "        else:\n",
    "            print('Wrong Answer!')\n",
    "\n",
    "\n",
    "        question2 = input('Which programming language is known for its use in web development and runs in the browser?')\n",
    "        if question2 == 'JavaScript'.lower():\n",
    "            print('Correct Answer')\n",
    "            self.score+=1\n",
    "        else:\n",
    "            print('Wrong Answer!')\n",
    "\n",
    "\n",
    "\n",
    "        question3 = input('What does \"HTTP\" stand for?')\n",
    "        if question3 == 'Hyper'.lower():\n",
    "            print('Correct Answer')\n",
    "            self.score+=1\n",
    "        else:\n",
    "            print('Wrong Answer!')\n",
    "\n",
    "\n",
    "\n",
    "        question4 = input('Which operating system is open-source and based on the Linux kernel?')\n",
    "        if question4 == 'android'.lower():\n",
    "            print('Correct Answer')\n",
    "            self.score+=1\n",
    "        else:\n",
    "            print('Wrong Answer!')\n",
    "\n",
    "\n",
    "\n",
    "\n",
    "        question5 = input('Which operating system is open-source and based on the Linux kernel?')\n",
    "        if question5 =='android'.lower():\n",
    "            print('Correct Answer')\n",
    "            self.score+=1\n",
    "        else:\n",
    "            print('Wrong Answer!')\n",
    "\n",
    "\n",
    "\n",
    "    def result(self):\n",
    "        print('===========================REASULT================================')\n",
    "        print('The Result Of Quiz Is : ')\n",
    "        print(f'The Total Correct Questions Of {self.name} is : {self.score}/5')\n",
    "        avg = self.score/5\n",
    "        per = avg*100\n",
    "        print(f'Percentage is : {per}%')\n",
    "\n",
    "\n",
    "        "
   ]
  },
  {
   "cell_type": "code",
   "execution_count": 3,
   "id": "22e948a3-c9d7-44c1-b9e3-c74065d505f2",
   "metadata": {},
   "outputs": [],
   "source": [
    "q1 = quiz('Asad','1234')"
   ]
  },
  {
   "cell_type": "code",
   "execution_count": 5,
   "id": "276fa84d-a4eb-4e7f-ad8a-91de7423cb57",
   "metadata": {},
   "outputs": [
    {
     "name": "stdout",
     "output_type": "stream",
     "text": [
      "Wellcome To Quiz App\n",
      "Mr Asad With Roll No : 1234 Is Doing Quiz :/n\n"
     ]
    },
    {
     "name": "stdin",
     "output_type": "stream",
     "text": [
      "What does \"CPU\" stand for in computing? Centrel processing unit\n"
     ]
    },
    {
     "name": "stdout",
     "output_type": "stream",
     "text": [
      "Wrong Answer!\n"
     ]
    },
    {
     "name": "stdin",
     "output_type": "stream",
     "text": [
      "Which programming language is known for its use in web development and runs in the browser? Javascript\n"
     ]
    },
    {
     "name": "stdout",
     "output_type": "stream",
     "text": [
      "Wrong Answer!\n"
     ]
    },
    {
     "name": "stdin",
     "output_type": "stream",
     "text": [
      "What does \"HTTP\" stand for? qmdmeecm\n"
     ]
    },
    {
     "name": "stdout",
     "output_type": "stream",
     "text": [
      "Wrong Answer!\n"
     ]
    },
    {
     "name": "stdin",
     "output_type": "stream",
     "text": [
      "Which operating system is open-source and based on the Linux kernel? dcnmd \n"
     ]
    },
    {
     "name": "stdout",
     "output_type": "stream",
     "text": [
      "Wrong Answer!\n"
     ]
    },
    {
     "name": "stdin",
     "output_type": "stream",
     "text": [
      "Which operating system is open-source and based on the Linux kernel? dd\n"
     ]
    },
    {
     "name": "stdout",
     "output_type": "stream",
     "text": [
      "Wrong Answer!\n",
      "===========================REASULT================================\n",
      "The Result Of Quiz Is : \n",
      "The Total Correct Questions Of Asad is : 0/5\n",
      "Percentage is : 0.0%\n"
     ]
    }
   ],
   "source": [
    "q1.intro()\n",
    "q1.questions()\n",
    "q1.result()"
   ]
  },
  {
   "cell_type": "code",
   "execution_count": null,
   "id": "c69c0b42-84b8-4640-91d4-65461dac76bd",
   "metadata": {},
   "outputs": [],
   "source": []
  }
 ],
 "metadata": {
  "kernelspec": {
   "display_name": "Python [conda env:base] *",
   "language": "python",
   "name": "conda-base-py"
  },
  "language_info": {
   "codemirror_mode": {
    "name": "ipython",
    "version": 3
   },
   "file_extension": ".py",
   "mimetype": "text/x-python",
   "name": "python",
   "nbconvert_exporter": "python",
   "pygments_lexer": "ipython3",
   "version": "3.12.7"
  }
 },
 "nbformat": 4,
 "nbformat_minor": 5
}
