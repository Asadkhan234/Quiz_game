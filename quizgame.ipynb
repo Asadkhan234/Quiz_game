{
 "cells": [
  {
   "cell_type": "code",
   "execution_count": 4,
   "id": "0d917d8d-716f-42ad-b597-0559035d330f",
   "metadata": {},
   "outputs": [
    {
     "name": "stdout",
     "output_type": "stream",
     "text": [
      "============================================================\n",
      "🎓 Welcome to the Python Eligibility-Based Quiz System\n",
      "============================================================\n"
     ]
    },
    {
     "name": "stdin",
     "output_type": "stream",
     "text": [
      "👤 Enter Your Name:  Asad\n",
      "🎂 Enter Your Age:  22\n",
      "🏷️ Enter Your Batch:  17\n",
      "🆔 Enter Your ID:  1234\n"
     ]
    },
    {
     "name": "stdout",
     "output_type": "stream",
     "text": [
      "✅ Access Granted — You Can Take the Quiz!\n",
      "\n"
     ]
    },
    {
     "name": "stdin",
     "output_type": "stream",
     "text": [
      "Do You Want To Play? (yes/no):  yes\n"
     ]
    },
    {
     "name": "stdout",
     "output_type": "stream",
     "text": [
      "Okay, let's play!\n"
     ]
    },
    {
     "name": "stdin",
     "output_type": "stream",
     "text": [
      "1. What is the keyword to define a function in Python?  def\n"
     ]
    },
    {
     "name": "stdout",
     "output_type": "stream",
     "text": [
      "Correct!\n"
     ]
    },
    {
     "name": "stdin",
     "output_type": "stream",
     "text": [
      "2. What symbol is used to comment a single line in Python?  #\n"
     ]
    },
    {
     "name": "stdout",
     "output_type": "stream",
     "text": [
      "Correct!\n"
     ]
    },
    {
     "name": "stdin",
     "output_type": "stream",
     "text": [
      "3. What data type is the result of: 5 // 2 ?  2.5\n"
     ]
    },
    {
     "name": "stdout",
     "output_type": "stream",
     "text": [
      "Wrong!\n"
     ]
    },
    {
     "name": "stdin",
     "output_type": "stream",
     "text": [
      "4. What is the output of: print(len('hello')) ?  4\n"
     ]
    },
    {
     "name": "stdout",
     "output_type": "stream",
     "text": [
      "Wrong!\n"
     ]
    },
    {
     "name": "stdin",
     "output_type": "stream",
     "text": [
      "5. Which keyword is used to create a class in Python?  class\n"
     ]
    },
    {
     "name": "stdout",
     "output_type": "stream",
     "text": [
      "Correct!\n"
     ]
    },
    {
     "name": "stdin",
     "output_type": "stream",
     "text": [
      "6. What is the output of: bool(0) ?  False\n"
     ]
    },
    {
     "name": "stdout",
     "output_type": "stream",
     "text": [
      "Correct!\n"
     ]
    },
    {
     "name": "stdin",
     "output_type": "stream",
     "text": [
      "7. Which loop runs while a condition is True?  for\n"
     ]
    },
    {
     "name": "stdout",
     "output_type": "stream",
     "text": [
      "Wrong!\n"
     ]
    },
    {
     "name": "stdin",
     "output_type": "stream",
     "text": [
      "8. How do you start a Python list?  []\n"
     ]
    },
    {
     "name": "stdout",
     "output_type": "stream",
     "text": [
      "Correct!\n"
     ]
    },
    {
     "name": "stdin",
     "output_type": "stream",
     "text": [
      "9. Which function is used to get user input in Python?  input\n"
     ]
    },
    {
     "name": "stdout",
     "output_type": "stream",
     "text": [
      "Correct!\n"
     ]
    },
    {
     "name": "stdin",
     "output_type": "stream",
     "text": [
      "10. What is the result of: 3 ** 2 ?  8\n"
     ]
    },
    {
     "name": "stdout",
     "output_type": "stream",
     "text": [
      "Wrong!\n",
      "\n",
      "============================================================\n",
      "🎯 Asad, You got 6 out of 10 questions correct!\n",
      "📊 Your score: 60.0%\n",
      "🙂 Not bad, keep practicing.\n",
      "============================================================\n"
     ]
    }
   ],
   "source": [
    "# 🎯 Python Eligibility-Based Quiz System\n",
    "\n",
    "print('='*60)\n",
    "print('🎓 Welcome to the Python Eligibility-Based Quiz System')\n",
    "print('='*60)\n",
    "\n",
    "# 📝 User Information\n",
    "name = input('👤 Enter Your Name: ')\n",
    "age = int(input('🎂 Enter Your Age: '))\n",
    "batch = int(input('🏷️ Enter Your Batch: '))\n",
    "student_id = int(input('🆔 Enter Your ID: '))\n",
    "\n",
    "# Check age and batch first\n",
    "if age >= 18 and batch == 17:\n",
    "    print('✅ Access Granted — You Can Take the Quiz!\\n')\n",
    "\n",
    "    score = 0\n",
    "    playing = input('Do You Want To Play? (yes/no): ')\n",
    "    if playing.lower() != 'yes':\n",
    "        print('Maybe next time!')\n",
    "        quit()\n",
    "    else:\n",
    "        print(\"Okay, let's play!\")\n",
    "\n",
    "        answer = input('1. What is the keyword to define a function in Python? ').lower()\n",
    "        if answer == 'def':\n",
    "            print('Correct!')\n",
    "            score += 1\n",
    "        else:\n",
    "            print('Wrong!')\n",
    "\n",
    "        answer = input(\"2. What symbol is used to comment a single line in Python? \").lower()\n",
    "        if answer == '#':\n",
    "            print('Correct!')\n",
    "            score += 1\n",
    "        else:\n",
    "            print('Wrong!')\n",
    "\n",
    "        answer = input(\"3. What data type is the result of: 5 // 2 ? \").lower()\n",
    "        if answer == \"int\" or answer == \"integer\":\n",
    "            print('Correct!')\n",
    "            score += 1\n",
    "        else:\n",
    "            print('Wrong!')\n",
    "\n",
    "        answer = input(\"4. What is the output of: print(len('hello')) ? \").lower()\n",
    "        if answer == '5':\n",
    "            print('Correct!')\n",
    "            score += 1\n",
    "        else:\n",
    "            print('Wrong!')\n",
    "\n",
    "        answer = input(\"5. Which keyword is used to create a class in Python? \").lower()\n",
    "        if answer == 'class':\n",
    "            print('Correct!')\n",
    "            score += 1\n",
    "        else:\n",
    "            print('Wrong!')\n",
    "\n",
    "        answer = input(\"6. What is the output of: bool(0) ? \").lower()\n",
    "        if answer == 'false':\n",
    "            print('Correct!')\n",
    "            score += 1\n",
    "        else:\n",
    "            print('Wrong!')\n",
    "\n",
    "        answer = input(\"7. Which loop runs while a condition is True? \").lower()\n",
    "        if answer == 'while':\n",
    "            print('Correct!')\n",
    "            score += 1\n",
    "        else:\n",
    "            print('Wrong!')\n",
    "\n",
    "        answer = input(\"8. How do you start a Python list? \").lower()\n",
    "        if answer.startswith('[') and answer.endswith(']'):\n",
    "            print('Correct!')\n",
    "            score += 1\n",
    "        else:\n",
    "            print('Wrong!')\n",
    "\n",
    "        answer = input(\"9. Which function is used to get user input in Python? \").lower()\n",
    "        if answer == 'input':\n",
    "            print('Correct!')\n",
    "            score += 1\n",
    "        else:\n",
    "            print('Wrong!')\n",
    "\n",
    "        answer = input(\"10. What is the result of: 3 ** 2 ? \").lower()\n",
    "        if answer == '9':\n",
    "            print('Correct!')\n",
    "            score += 1\n",
    "        else:\n",
    "            print('Wrong!')\n",
    "\n",
    "     # 🧾 Final Result\n",
    "        print('\\n' + '='*60)\n",
    "        print(f'🎯 {name}, You got {score} out of 10 questions correct!')\n",
    "        percentage = (score / 10) * 100\n",
    "        print(f'📊 Your score: {percentage}%')\n",
    "\n",
    "        if score == 10:\n",
    "            print(\"🏆 Perfect! You're a Python pro!\")\n",
    "        elif score >= 7:\n",
    "            print(\"✅ Good job! You know your Python well.\")\n",
    "        elif score >= 4:\n",
    "            print(\"🙂 Not bad, keep practicing.\")\n",
    "        else:\n",
    "            print(\"📘 Don’t worry. Study and try again!\")\n",
    "        print('='*60)\n",
    "\n",
    "else:\n",
    "    print(\"❌ Access Denied: You're either underage or not from batch 17.\")\n"
   ]
  },
  {
   "cell_type": "code",
   "execution_count": null,
   "id": "7c72a286-1e53-411f-84d7-5be5c5553fa8",
   "metadata": {},
   "outputs": [],
   "source": []
  }
 ],
 "metadata": {
  "kernelspec": {
   "display_name": "Python [conda env:base] *",
   "language": "python",
   "name": "conda-base-py"
  },
  "language_info": {
   "codemirror_mode": {
    "name": "ipython",
    "version": 3
   },
   "file_extension": ".py",
   "mimetype": "text/x-python",
   "name": "python",
   "nbconvert_exporter": "python",
   "pygments_lexer": "ipython3",
   "version": "3.12.7"
  }
 },
 "nbformat": 4,
 "nbformat_minor": 5
}
